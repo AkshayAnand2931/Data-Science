{
 "cells": [
  {
   "cell_type": "code",
   "execution_count": 12,
   "metadata": {},
   "outputs": [],
   "source": [
    "from scipy.stats import norm,binom,poisson\n",
    "from math import sqrt"
   ]
  },
  {
   "cell_type": "code",
   "execution_count": 5,
   "metadata": {},
   "outputs": [
    {
     "name": "stdout",
     "output_type": "stream",
     "text": [
      "0.7287469759261647\n",
      "0.6826894921370859\n",
      "0.7286678781072347\n"
     ]
    }
   ],
   "source": [
    "print(binom.cdf(55,100,0.5) - binom.cdf(44,100,0.5))\n",
    "\n",
    "print(norm.cdf(55,50,5) - norm.cdf(45,50,5))\n",
    "\n",
    "print(norm.cdf(55.5,50,5) - norm.cdf(44.5,50,5))"
   ]
  },
  {
   "cell_type": "code",
   "execution_count": 14,
   "metadata": {},
   "outputs": [
    {
     "name": "stdout",
     "output_type": "stream",
     "text": [
      "0.563430168068505\n",
      "0.5204998778130465\n",
      "0.5633233663251089\n"
     ]
    }
   ],
   "source": [
    "print(poisson.cdf(55,50) - poisson.cdf(44,50))\n",
    "\n",
    "print(norm.cdf(55,50,sqrt(50)) - norm.cdf(45,50,sqrt(50)))\n",
    "\n",
    "print(norm.cdf(55.5,50,sqrt(50)) - norm.cdf(44.5,50,sqrt(50)))"
   ]
  }
 ],
 "metadata": {
  "kernelspec": {
   "display_name": "Python 3.9.13 64-bit (microsoft store)",
   "language": "python",
   "name": "python3"
  },
  "language_info": {
   "codemirror_mode": {
    "name": "ipython",
    "version": 3
   },
   "file_extension": ".py",
   "mimetype": "text/x-python",
   "name": "python",
   "nbconvert_exporter": "python",
   "pygments_lexer": "ipython3",
   "version": "3.9.13"
  },
  "orig_nbformat": 4,
  "vscode": {
   "interpreter": {
    "hash": "9e751d02d6254c91a5337ccacd3da0a06bef2f97f2b707c83ebd4c7968b8ad4d"
   }
  }
 },
 "nbformat": 4,
 "nbformat_minor": 2
}
