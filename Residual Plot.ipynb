{
 "cells": [
  {
   "cell_type": "code",
   "execution_count": 28,
   "id": "67161d61",
   "metadata": {},
   "outputs": [
    {
     "data": {
      "text/html": [
       "<div>\n",
       "<style scoped>\n",
       "    .dataframe tbody tr th:only-of-type {\n",
       "        vertical-align: middle;\n",
       "    }\n",
       "\n",
       "    .dataframe tbody tr th {\n",
       "        vertical-align: top;\n",
       "    }\n",
       "\n",
       "    .dataframe thead th {\n",
       "        text-align: right;\n",
       "    }\n",
       "</style>\n",
       "<table border=\"1\" class=\"dataframe\">\n",
       "  <thead>\n",
       "    <tr style=\"text-align: right;\">\n",
       "      <th></th>\n",
       "      <th>y</th>\n",
       "      <th>z</th>\n",
       "    </tr>\n",
       "  </thead>\n",
       "  <tbody>\n",
       "    <tr>\n",
       "      <th>0</th>\n",
       "      <td>6</td>\n",
       "      <td>1</td>\n",
       "    </tr>\n",
       "    <tr>\n",
       "      <th>1</th>\n",
       "      <td>4</td>\n",
       "      <td>2</td>\n",
       "    </tr>\n",
       "    <tr>\n",
       "      <th>2</th>\n",
       "      <td>3</td>\n",
       "      <td>3</td>\n",
       "    </tr>\n",
       "    <tr>\n",
       "      <th>3</th>\n",
       "      <td>2</td>\n",
       "      <td>4</td>\n",
       "    </tr>\n",
       "    <tr>\n",
       "      <th>4</th>\n",
       "      <td>1</td>\n",
       "      <td>5</td>\n",
       "    </tr>\n",
       "    <tr>\n",
       "      <th>5</th>\n",
       "      <td>7</td>\n",
       "      <td>6</td>\n",
       "    </tr>\n",
       "    <tr>\n",
       "      <th>6</th>\n",
       "      <td>9</td>\n",
       "      <td>7</td>\n",
       "    </tr>\n",
       "    <tr>\n",
       "      <th>7</th>\n",
       "      <td>8</td>\n",
       "      <td>8</td>\n",
       "    </tr>\n",
       "    <tr>\n",
       "      <th>8</th>\n",
       "      <td>10</td>\n",
       "      <td>9</td>\n",
       "    </tr>\n",
       "    <tr>\n",
       "      <th>9</th>\n",
       "      <td>5</td>\n",
       "      <td>10</td>\n",
       "    </tr>\n",
       "  </tbody>\n",
       "</table>\n",
       "</div>"
      ],
      "text/plain": [
       "    y   z\n",
       "0   6   1\n",
       "1   4   2\n",
       "2   3   3\n",
       "3   2   4\n",
       "4   1   5\n",
       "5   7   6\n",
       "6   9   7\n",
       "7   8   8\n",
       "8  10   9\n",
       "9   5  10"
      ]
     },
     "execution_count": 28,
     "metadata": {},
     "output_type": "execute_result"
    }
   ],
   "source": [
    "import numpy as np\n",
    "import matplotlib.pyplot as plt\n",
    "import pandas as pd\n",
    "\n",
    "data={\n",
    "    \"y\":[6,4,3,2,1,7,9,8,10,5],\n",
    "    \"z\":[1,2,3,4,5,6,7,8,9,10]\n",
    "}\n",
    "\n",
    "\n",
    "\n",
    "df=pd.DataFrame(data)\n",
    "df"
   ]
  },
  {
   "cell_type": "code",
   "execution_count": 29,
   "id": "d1093022",
   "metadata": {},
   "outputs": [],
   "source": [
    "y_mean=df[\"y\"].mean()\n",
    "z_mean=df[\"z\"].mean()"
   ]
  },
  {
   "cell_type": "code",
   "execution_count": 30,
   "id": "1ca42a59",
   "metadata": {},
   "outputs": [],
   "source": [
    "s=0\n",
    "p=0\n",
    "\n",
    "for i in range (len(data[\"y\"])):\n",
    "    s+=(data[\"y\"][i]-y_mean)*(data[\"z\"][i]-z_mean)\n",
    "    p+=(data[\"y\"][i]-y_mean)*(data[\"y\"][i]-y_mean)\n",
    "b1=s/p\n",
    "\n",
    "b0=z_mean-b1*y_mean"
   ]
  },
  {
   "cell_type": "code",
   "execution_count": 31,
   "id": "a213a9d8",
   "metadata": {},
   "outputs": [
    {
     "data": {
      "image/png": "[encoded data removed]",
      "text/plain": [
       "<Figure size 640x480 with 1 Axes>"
      ]
     },
     "metadata": {},
     "output_type": "display_data"
    }
   ],
   "source": [
    "import numpy as np\n",
    "y_hat=np.linspace(0,20,200)\n",
    "z_hat=b1*y_hat+b0\n",
    "plt.plot(y_hat,z_hat)\n",
    "plt.scatter(df[\"y\"],df[\"z\"])\n",
    "plt.show()"
   ]
  },
  {
   "cell_type": "code",
   "execution_count": 32,
   "id": "b4a436be",
   "metadata": {},
   "outputs": [
    {
     "name": "stdout",
     "output_type": "stream",
     "text": [
      "z_hat=0.5151515151515151y_hat +2.666666666666667\n"
     ]
    }
   ],
   "source": [
    "print(\"z_hat=\",b1,\"y_hat +\",b0,sep=\"\")"
   ]
  },
  {
   "cell_type": "code",
   "execution_count": 33,
   "id": "835e0ad4",
   "metadata": {},
   "outputs": [],
   "source": [
    "def f(y):\n",
    "    return b1*y+b0"
   ]
  },
  {
   "cell_type": "code",
   "execution_count": 34,
   "id": "85d832c3",
   "metadata": {},
   "outputs": [
    {
     "data": {
      "text/plain": [
       "6.787878787878788"
      ]
     },
     "execution_count": 34,
     "metadata": {},
     "output_type": "execute_result"
    }
   ],
   "source": [
    "f(8)"
   ]
  },
  {
   "cell_type": "code",
   "execution_count": 35,
   "id": "c5184e77",
   "metadata": {},
   "outputs": [
    {
     "name": "stdout",
     "output_type": "stream",
     "text": [
      "Pearson Corelation Coefficient value is  0.5151515151515151\n"
     ]
    }
   ],
   "source": [
    "import math\n",
    "a=0\n",
    "b=0\n",
    "c=0\n",
    "for i in range(len(data[\"y\"])):\n",
    "    a+=((data[\"y\"][i]-y_mean)*(data[\"z\"][i]-z_mean))\n",
    "    b+=(data[\"y\"][i]-y_mean)*(data[\"y\"][i]-y_mean)\n",
    "    c+=(data[\"z\"][i]-z_mean)*(data[\"z\"][i]-z_mean)\n",
    "b=math.sqrt(b)    \n",
    "c=math.sqrt(c)\n",
    "r=a/(b*c)\n",
    "\n",
    "print(\"Pearson Corelation Coefficient value is \",r)"
   ]
  },
  {
   "cell_type": "code",
   "execution_count": 36,
   "id": "e184d403",
   "metadata": {},
   "outputs": [
    {
     "data": {
      "text/plain": [
       "[5.242424242424242,\n",
       " 3.6969696969696972,\n",
       " 2.666666666666667,\n",
       " 1.6363636363636367,\n",
       " 0.6060606060606064,\n",
       " 3.181818181818182,\n",
       " 3.6969696969696972,\n",
       " 2.666666666666667,\n",
       " 3.181818181818182,\n",
       " 0.09090909090909127]"
      ]
     },
     "execution_count": 36,
     "metadata": {},
     "output_type": "execute_result"
    }
   ],
   "source": [
    "res=[]\n",
    "for i in range(len(df[\"z\"])):\n",
    "    res.append(f(data[\"y\"][i]-data[\"z\"][i]))\n",
    "res"
   ]
  },
  {
   "cell_type": "code",
   "execution_count": 37,
   "id": "d333a683",
   "metadata": {},
   "outputs": [
    {
     "data": {
      "image/png": "[encoded data removed]",
      "text/plain": [
       "<Figure size 640x480 with 1 Axes>"
      ]
     },
     "metadata": {},
     "output_type": "display_data"
    }
   ],
   "source": [
    "plt.scatter(data[\"y\"],res)\n",
    "plt.plot(data[\"y\"],[np.mean(res) for i in range(len(data[\"y\"]))])\n",
    "plt.show()"
   ]
  }
 ],
 "metadata": {
  "kernelspec": {
   "display_name": "Python 3 (ipykernel)",
   "language": "python",
   "name": "python3"
  },
  "language_info": {
   "codemirror_mode": {
    "name": "ipython",
    "version": 3
   },
   "file_extension": ".py",
   "mimetype": "text/x-python",
   "name": "python",
   "nbconvert_exporter": "python",
   "pygments_lexer": "ipython3",
   "version": "3.9.13"
  }
 },
 "nbformat": 4,
 "nbformat_minor": 5
}
