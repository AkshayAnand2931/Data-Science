{
 "cells": [
  {
   "cell_type": "code",
   "execution_count": 1,
   "metadata": {},
   "outputs": [],
   "source": [
    "import matplotlib.pyplot as plt\n",
    "from math import sqrt\n",
    "from scipy.stats import norm"
   ]
  },
  {
   "cell_type": "code",
   "execution_count": 2,
   "metadata": {},
   "outputs": [
    {
     "name": "stdout",
     "output_type": "stream",
     "text": [
      "p =  0.13666083914614907\n"
     ]
    }
   ],
   "source": [
    "n=30\n",
    "sigma=10\n",
    "alpha=0.05\n",
    "x_bar=38\n",
    "mu0=40\n",
    "se=sigma/sqrt(n)\n",
    "z=(x_bar-mu0)/se\n",
    "p=norm.cdf(z)\n",
    "print('p = ',p)\n"
   ]
  },
  {
   "cell_type": "code",
   "execution_count": 3,
   "metadata": {},
   "outputs": [
    {
     "name": "stdout",
     "output_type": "stream",
     "text": [
      "Cannot reject H0\n"
     ]
    }
   ],
   "source": [
    "if(p<0.05):\n",
    "    print('reject H0')\n",
    "else:\n",
    "    print('Cannot reject H0')"
   ]
  },
  {
   "cell_type": "code",
   "execution_count": null,
   "metadata": {},
   "outputs": [],
   "source": []
  }
 ],
 "metadata": {
  "kernelspec": {
   "display_name": "Python 3.9.13 64-bit (microsoft store)",
   "language": "python",
   "name": "python3"
  },
  "language_info": {
   "codemirror_mode": {
    "name": "ipython",
    "version": 3
   },
   "file_extension": ".py",
   "mimetype": "text/x-python",
   "name": "python",
   "nbconvert_exporter": "python",
   "pygments_lexer": "ipython3",
   "version": "3.9.13"
  },
  "orig_nbformat": 4,
  "vscode": {
   "interpreter": {
    "hash": "9e751d02d6254c91a5337ccacd3da0a06bef2f97f2b707c83ebd4c7968b8ad4d"
   }
  }
 },
 "nbformat": 4,
 "nbformat_minor": 2
}
