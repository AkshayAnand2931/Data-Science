{
 "cells": [
  {
   "cell_type": "code",
   "execution_count": 4,
   "id": "ecc6deb9",
   "metadata": {},
   "outputs": [
    {
     "ename": "TypeError",
     "evalue": "read_csv() missing 1 required positional argument: 'filepath_or_buffer'",
     "output_type": "error",
     "traceback": [
      "\u001b[1;31m---------------------------------------------------------------------------\u001b[0m",
      "\u001b[1;31mTypeError\u001b[0m                                 Traceback (most recent call last)",
      "\u001b[1;32m<ipython-input-4-4b6dbf2bd3c1>\u001b[0m in \u001b[0;36m<module>\u001b[1;34m\u001b[0m\n\u001b[0;32m      5\u001b[0m \u001b[1;32mimport\u001b[0m \u001b[0mmath\u001b[0m\u001b[1;33m\u001b[0m\u001b[1;33m\u001b[0m\u001b[0m\n\u001b[0;32m      6\u001b[0m \u001b[1;33m\u001b[0m\u001b[0m\n\u001b[1;32m----> 7\u001b[1;33m \u001b[0mdf\u001b[0m \u001b[1;33m=\u001b[0m \u001b[0mpd\u001b[0m\u001b[1;33m.\u001b[0m\u001b[0mread_csv\u001b[0m\u001b[1;33m(\u001b[0m\u001b[1;33m)\u001b[0m\u001b[1;33m\u001b[0m\u001b[1;33m\u001b[0m\u001b[0m\n\u001b[0m\u001b[0;32m      8\u001b[0m \u001b[0mdf\u001b[0m\u001b[1;33m\u001b[0m\u001b[1;33m\u001b[0m\u001b[0m\n\u001b[0;32m      9\u001b[0m \u001b[1;33m\u001b[0m\u001b[0m\n",
      "\u001b[1;31mTypeError\u001b[0m: read_csv() missing 1 required positional argument: 'filepath_or_buffer'"
     ]
    }
   ],
   "source": [
    "import csv\n",
    "import matplotlib.pyplot as plt\n",
    "import pandas as pd\n",
    "import numpy as np\n",
    "import math\n",
    "\n",
    "df = pd.read_csv()\n",
    "df\n",
    "\n",
    "pop_wt = np.mean(df['weight'])\n",
    "pop_wt\n",
    "\n",
    "def samp_dist(sample_size, no_of_samples):\n",
    "    wt = []\n",
    "    \n",
    "    for i in range(no_of_samples):\n",
    "        sample = df.weight.sample(sample_size)\n",
    "        wt.append(np.mean(sample))\n",
    "        \n",
    "    plt.hist(wt)#Sampling Distribution\n",
    "    print('Average of all sample means:',np.mean(wt))\n",
    "    print('Uncertainity in the estimate:',np.std(wt))\n",
    "    \n",
    "pop_std = np.std(df.weight)\n",
    "print('Expected Uncertainity :',pop_std/math.sqrt(1000))\n",
    "\n",
    "print(\"The population mean is :\",pop_wt)\n",
    "samp_dist(50,1000)\n",
    "samp_dist(100,1000)\n",
    "samp_dist(1000,1000)"
   ]
  },
  {
   "cell_type": "code",
   "execution_count": null,
   "id": "387bc8f2",
   "metadata": {},
   "outputs": [],
   "source": []
  }
 ],
 "metadata": {
  "kernelspec": {
   "display_name": "Python 3.9.13 64-bit (microsoft store)",
   "language": "python",
   "name": "python3"
  },
  "language_info": {
   "codemirror_mode": {
    "name": "ipython",
    "version": 3
   },
   "file_extension": ".py",
   "mimetype": "text/x-python",
   "name": "python",
   "nbconvert_exporter": "python",
   "pygments_lexer": "ipython3",
   "version": "3.9.13"
  },
  "vscode": {
   "interpreter": {
    "hash": "9e751d02d6254c91a5337ccacd3da0a06bef2f97f2b707c83ebd4c7968b8ad4d"
   }
  }
 },
 "nbformat": 4,
 "nbformat_minor": 5
}
